{
 "cells": [
  {
   "cell_type": "code",
   "execution_count": 2,
   "id": "615ee4f1",
   "metadata": {},
   "outputs": [],
   "source": [
    "import urllib.request\n",
    "from datetime import datetime\n",
    "import camelot\n",
    "import pandas as pd\n",
    "%matplotlib qt"
   ]
  },
  {
   "cell_type": "code",
   "execution_count": 7,
   "id": "7aae1a93",
   "metadata": {},
   "outputs": [],
   "source": [
    "EVT_LOG_URI = 'https://uwpd.wisc.edu/content/uploads/2020/10/Building-Manager-Log.pdf'"
   ]
  },
  {
   "cell_type": "code",
   "execution_count": 8,
   "id": "51444c11",
   "metadata": {},
   "outputs": [
    {
     "data": {
      "text/plain": [
       "('eventlog-2021-9-29.pdf', <http.client.HTTPMessage at 0x7f38ce6497c0>)"
      ]
     },
     "execution_count": 8,
     "metadata": {},
     "output_type": "execute_result"
    }
   ],
   "source": [
    "now = datetime.now()\n",
    "fname = f'eventlog-{now.year}-{now.month}-{now.day}.pdf'\n",
    "urllib.request.urlretrieve(EVT_LOG_URI, fname)"
   ]
  },
  {
   "cell_type": "code",
   "execution_count": 37,
   "id": "9b7d64a8",
   "metadata": {},
   "outputs": [],
   "source": [
    "EVT_LOG_AREAS = {\n",
    "    'first': ['0,555,800,25'],\n",
    "    'rest': ['0,600,800,25'],\n",
    "}\n",
    "tables = camelot.read_pdf(fname, flavor='stream', pages='2-end', table_areas=EVT_LOG_AREAS['rest'])"
   ]
  },
  {
   "cell_type": "code",
   "execution_count": 133,
   "id": "6dfde602",
   "metadata": {},
   "outputs": [
    {
     "data": {
      "text/plain": [
       "'Location\\nAddress'"
      ]
     },
     "execution_count": 133,
     "metadata": {},
     "output_type": "execute_result"
    }
   ],
   "source": [
    "tables[0].df.iloc[0,3]"
   ]
  },
  {
   "cell_type": "code",
   "execution_count": 143,
   "id": "dec14b10",
   "metadata": {},
   "outputs": [],
   "source": [
    "# clean up a page's table\n",
    "def postprocess(df):\n",
    "    df = df.copy()\n",
    "    \n",
    "    needs_loc_split = df.iloc[0,3] == 'Location\\nAddress'\n",
    "    df.drop(0, inplace=True)\n",
    "    if needs_loc_split:\n",
    "        df.rename(columns={0: 'Event #', 1: 'Date & Time', 2: 'Nature', 3: 'Location & Address', 4: 'Status'}, inplace=True)\n",
    "        df[['Location', 'Address']] = df['Location & Address'].str.split('\\n', 1, expand=True)\n",
    "        df.drop(columns='Location & Address', inplace=True)\n",
    "    else:\n",
    "        df.rename(columns={0: 'Event #', 1: 'Date & Time', 2: 'Nature', 3: 'Location', 4: 'Address', 5: 'Status'}, inplace=True)\n",
    "    \n",
    "    # fixup last page stuff\n",
    "    if '/' in df.iloc[-1,0]: # date in evt column\n",
    "        df.drop(, rows=-1, inplace=True)\n",
    "\n",
    "    df['Event #'] = pd.to_numeric(df['Event #'])\n",
    "    # df[1] = df[1].apply(lambda dts: datetime.strptime(dts, '%m/%d/%y %H:%M %p'))\n",
    "    df['Date & Time'] = pd.to_datetime(df['Date & Time'])\n",
    "    return df"
   ]
  },
  {
   "cell_type": "code",
   "execution_count": 4,
   "id": "48335fc2",
   "metadata": {},
   "outputs": [
    {
     "data": {
      "text/plain": [
       "('clery-2021-9-29.pdf', <http.client.HTTPMessage at 0x7fb26ee872b0>)"
      ]
     },
     "execution_count": 4,
     "metadata": {},
     "output_type": "execute_result"
    }
   ],
   "source": [
    "CLERY_LOG_URI = 'https://uwpd.wisc.edu/content/uploads/2020/10/Clery-Crime-Fire-Log.pdf'\n",
    "now = datetime.now()\n",
    "fname = f'clery-{now.year}-{now.month}-{now.day}.pdf'\n",
    "urllib.request.urlretrieve(CLERY_LOG_URI, fname)"
   ]
  },
  {
   "cell_type": "code",
   "execution_count": 45,
   "id": "73ef3418",
   "metadata": {},
   "outputs": [],
   "source": [
    "tables = camelot.read_pdf(fname, flavor='stream', pages='all',\n",
    "                          table_areas=['0,530,760,0'],\n",
    "                          columns=['100,180,280,330,465,637'],\n",
    "                          split_text=True)"
   ]
  },
  {
   "cell_type": "code",
   "execution_count": 65,
   "id": "6afc93ff",
   "metadata": {},
   "outputs": [
    {
     "data": {
      "text/plain": [
       "True"
      ]
     },
     "execution_count": 65,
     "metadata": {},
     "output_type": "execute_result"
    }
   ],
   "source": [
    "any(['END OF REPORT' in x for x in tables[-1].df.iloc[-1]])"
   ]
  },
  {
   "cell_type": "code",
   "execution_count": 42,
   "id": "699217bb",
   "metadata": {},
   "outputs": [],
   "source": [
    "camelot.plot(tables[0], kind='text').show()"
   ]
  },
  {
   "cell_type": "code",
   "execution_count": null,
   "id": "75eff1e7",
   "metadata": {},
   "outputs": [],
   "source": []
  }
 ],
 "metadata": {
  "kernelspec": {
   "display_name": "Python 3 (ipykernel)",
   "language": "python",
   "name": "python3"
  },
  "language_info": {
   "codemirror_mode": {
    "name": "ipython",
    "version": 3
   },
   "file_extension": ".py",
   "mimetype": "text/x-python",
   "name": "python",
   "nbconvert_exporter": "python",
   "pygments_lexer": "ipython3",
   "version": "3.9.7"
  }
 },
 "nbformat": 4,
 "nbformat_minor": 5
}
